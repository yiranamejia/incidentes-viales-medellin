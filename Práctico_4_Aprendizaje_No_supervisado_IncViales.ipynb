{
  "cells": [
    {
      "cell_type": "markdown",
      "metadata": {
        "id": "view-in-github",
        "colab_type": "text"
      },
      "source": [
        "<a href=\"https://colab.research.google.com/github/yiranamejia/incidentes-viales-medellin/blob/main/Pr%C3%A1ctico_4_Aprendizaje_No_supervisado_IncViales.ipynb\" target=\"_parent\"><img src=\"https://colab.research.google.com/assets/colab-badge.svg\" alt=\"Open In Colab\"/></a>"
      ]
    },
    {
      "cell_type": "markdown",
      "metadata": {
        "id": "8D_cU-fP-hVV"
      },
      "source": [
        "# Universidad Nacional de Córdoba \n",
        "# Facultad de Matemática, Astronomía, Física y Computación\n",
        "# Diplomatura en Ciencia de Datos, Aprendizaje Automático y sus Aplicaciones 2022\n",
        "# Predicción de incidendes viales en la ciudad de Medellin\n",
        "\n",
        "> Mentora: Isabel Mejia\n",
        "\n",
        "> Estudiantes: Candela Spitale | Gustavo Venchiarutti | Carina Giovine\n",
        "\n",
        "\n",
        "Se trabaja con un dataset del portal de datos de la ciudad de Medellin-MEData\n",
        "[Victimas de Incidentes viales](http://medata.gov.co/dataset/v%C3%ADctimas-en-incidentes-viales)\n"
      ]
    },
    {
      "cell_type": "markdown",
      "metadata": {
        "id": "JChWJjCY-hVZ"
      },
      "source": [
        "# TRABAJO PRÁCTICO DE APRENDIZAJE NO SUPERVISADO\n",
        "Continuaremos con el estudio de la predicción de los incidentes viales en la ciudad de Medellin, implementando modelos utilizados en aprendizaje no supervisado. Algunos investigadores emplean las tecnicas del aprendizaje no supervisado, y despues continuan con las metodologías del aprendizaje supervisado.  En el aprendizaje no supervisado, se pretende realizar un análisis mas profundo de los datos y hallar patrones de comportamiento de los datos sin efectos externos. \n",
        "\n",
        "\n",
        "1. Exploración\n",
        "\n",
        "Antes de empezar a aplicar algunos algoritmos de clustering, es necesario que el dataset este limpio, asi como tambien encoding de variables categoricas. \n",
        "\n",
        "2. Descripción\n",
        "\n",
        "*  Analicemos la correlación positiva de las features de nuestro dataset. Identifiquemos y visualicemos los pares de features de correlación positiva.\n",
        "\n",
        "\n",
        "3. Apliquemos algunos algoritmos de clustering, como: Density-based spatial clustering of applications with noise -DBSCAN, K-means, Mixture Gaussianas. ¿Cuales hiperparametros han decidido analizar de cada algoritmo?  ¿Es necesaria la normalización de los datos , si normalizas los datos, se alteran los resultados de los hiperparámetros? \n",
        "\n",
        "4. Analiza los resultados obtenidos, compara los modelos aplicados.[Comparando algunos algoritmos de clustering](https://github.com/DiploDatos/AprendizajeNOSupervisado/blob/master/notebooks_clustering/note_fig1.ipynb). ¿Difieron los resultados obtenidos en Clustering, de los modelos de aprendizaje supervisado?\n",
        "\n",
        "\n",
        "\n",
        "\n",
        "\n"
      ]
    },
    {
      "cell_type": "code",
      "source": [],
      "metadata": {
        "id": "dNlGWgoWtxHB"
      },
      "execution_count": null,
      "outputs": []
    }
  ],
  "metadata": {
    "colab": {
      "collapsed_sections": [
        "kZzsKtR0A1bI",
        "hXgxWPWIn9NX"
      ],
      "name": "Práctico_4_Aprendizaje_No_supervisado_IncViales.ipynb",
      "provenance": [],
      "include_colab_link": true
    },
    "kernelspec": {
      "display_name": "Python 3.9.13 ('diplodatos')",
      "language": "python",
      "name": "python3"
    },
    "language_info": {
      "codemirror_mode": {
        "name": "ipython",
        "version": 3
      },
      "file_extension": ".py",
      "mimetype": "text/x-python",
      "name": "python",
      "nbconvert_exporter": "python",
      "pygments_lexer": "ipython3",
      "version": "3.9.13"
    },
    "vscode": {
      "interpreter": {
        "hash": "e6b65fc4380ac725e50a330b268a227bbdbe91bddfffbf68e5f7ce9848a2b8d5"
      }
    }
  },
  "nbformat": 4,
  "nbformat_minor": 0
}