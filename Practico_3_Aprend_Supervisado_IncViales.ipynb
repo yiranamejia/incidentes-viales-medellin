{
  "nbformat": 4,
  "nbformat_minor": 0,
  "metadata": {
    "colab": {
      "name": "Practico 3_Aprend.Supervisado_IncViales.ipynb",
      "provenance": [],
      "collapsed_sections": [
        "YKpDVM--Y4SA",
        "BdbP_dG0oTk7",
        "J1g02hdeWfkt",
        "G7gjkfqx7vTZ",
        "3gfhs2fKWVYh",
        "ZrRIYI0JAntY",
        "R1UB750dCv49"
      ],
      "include_colab_link": true
    },
    "kernelspec": {
      "name": "python3",
      "display_name": "Python 3"
    },
    "language_info": {
      "name": "python"
    }
  },
  "cells": [
    {
      "cell_type": "markdown",
      "metadata": {
        "id": "view-in-github",
        "colab_type": "text"
      },
      "source": [
        "<a href=\"https://colab.research.google.com/github/yiranamejia/incidentes-viales-medellin/blob/main/Practico_3_Aprend_Supervisado_IncViales.ipynb\" target=\"_parent\"><img src=\"https://colab.research.google.com/assets/colab-badge.svg\" alt=\"Open In Colab\"/></a>"
      ]
    },
    {
      "cell_type": "markdown",
      "source": [
        "# Universidad Nacional de Córdoba \n",
        "# Facultad de Matemática, Astronomía, Física y Computación\n",
        "# Diplomatura en Ciencia de Datos, Aprendizaje Automático y sus Aplicaciones 2022\n",
        "# Predicción de incidendes viales en la ciudad de Medellin\n",
        "\n",
        "> Mentora: Isabel Mejia\n",
        "\n",
        "> Estudiantes: Candela Spitale | Gustavo Venchiarutti | Carina Giovine\n",
        "\n",
        "\n",
        "Se trabaja con un dataset del portal de datos de la ciudad de Medellin-MEData\n",
        "[Victimas de Incidentes viales](http://medata.gov.co/dataset/v%C3%ADctimas-en-incidentes-viales)\n"
      ],
      "metadata": {
        "id": "zBSEqz4FYegr"
      }
    },
    {
      "cell_type": "markdown",
      "source": [
        "# TRABAJO PRÁCTICO DE APRENDIZAJE SUPERVISADO\n",
        "Estamos interesados en predecir la gravedad del incidente. Donde para nuestro dasaset, herido=1 y muerto=0. \n",
        "\n",
        "1.Antes de realizar el entrenamiento del modelo, es importante realizar la separación de Train(80%) y Test(20%)  esta separación debe estar balanceada , en sexo , condicion y se debe tener en cuenta tambien la fecha. Sobre  el dataset del práctico 2 se inicia la separación.\n",
        "Les comparto el siguiente link donde se realiza una separacion del dataset teniendo en cuenta la cronologia: [Separación de TRAIN y Test](https://github.com/jfrau/DiploDatos2019/blob/master/mentoria-envios/practico3_Mentoria_FINAL.ipynb)\n",
        "\n",
        "\n",
        "2. Recuerden que nuestra variable predictora y, o tarjet es la gravedad de incidente, , y las otras features pueden ser la edad, condicion, sexo, , latitud, longitud. Los invito a que eligan un subconjunto del dataset, que consideren que afectan a la variable gravedad de incidente..\n",
        "\n",
        "3. Ahora para que modelo que se entrene y tenga resultados confiables, es importante que los datos esten normalizados.  Debemos realizar la normalización de los datos. [Explicacion de normalizacion](https://towardsdatascience.com/scale-standardize-or-normalize-with-scikit-learn-6ccc7d176a02)\n",
        "Acá generamos tambien las nuevas dummy del subconjunto seleccionado.\n",
        "\n",
        "4. Apliquemos algunos modelos, como la regresión logística, RandomForestclassifier, DecisionTreeClassifier.\n",
        "Realicemos una comparación de los resultados del modelo normalizado y del modelo sin normalizar?¿ Hay cambios significativos de los hiperparámetros?\n",
        "Analicemos los hiperpametros de la matriz de confusión,  los errores de cada modelo y comparemos esos errores, Accuracy, las curva ROC y PR, y demás.\n",
        "\n",
        "Ya hemos aplicado el modelo de Random Forest  ahora analicemos las features mas significativas del modelo  [Analisis de features despues de aplicar random forest](https://scikit-learn.org/stable/auto_examples/ensemble/plot_forest_importances.html)\n",
        "\n",
        "Realizar la presentación del trabajo práctico con un informe, donde el desarrollo este acompañados de un analisis e interpretación de los resultados.\n",
        "\n",
        "Aquí la aplicación de algunos [modelos simple](https://github.com/Lizzy-Mejia/Prediccion-de-ACV/blob/main/Stroke_Prediction.ipynb)\n"
      ],
      "metadata": {
        "id": "Om94fVW9Y0BC"
      }
    }
  ]
}